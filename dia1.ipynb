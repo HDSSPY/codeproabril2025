{
 "cells": [
  {
   "cell_type": "code",
   "execution_count": null,
   "id": "edfa7b10",
   "metadata": {},
   "outputs": [],
   "source": []
  },
  {
   "cell_type": "code",
   "execution_count": 1,
   "id": "40f9d318",
   "metadata": {},
   "outputs": [
    {
     "name": "stdout",
     "output_type": "stream",
     "text": [
      "Hola mundo\n"
     ]
    }
   ],
   "source": [
    "print(\"Hola mundo\")\n"
   ]
  },
  {
   "cell_type": "code",
   "execution_count": 3,
   "id": "5f87ab24",
   "metadata": {},
   "outputs": [
    {
     "name": "stdout",
     "output_type": "stream",
     "text": [
      "15\n"
     ]
    }
   ],
   "source": [
    "cantidad_de_manzana = 5\n",
    "cantidad_de_naranja = 10\n",
    "cantidad_fruta = cantidad_de_manzana + cantidad_de_naranja\n",
    "print(cantidad_fruta)\n",
    "\n",
    "\n"
   ]
  },
  {
   "cell_type": "code",
   "execution_count": 4,
   "id": "80b52248",
   "metadata": {},
   "outputs": [
    {
     "name": "stdout",
     "output_type": "stream",
     "text": [
      "13\n"
     ]
    }
   ],
   "source": [
    "frutas_vendidas = 2\n",
    "frutas_restantes = cantidad_fruta - frutas_vendidas \n",
    "print(frutas_restantes)\n",
    "\n"
   ]
  },
  {
   "cell_type": "code",
   "execution_count": 6,
   "id": "7f3ddee1",
   "metadata": {},
   "outputs": [
    {
     "name": "stdout",
     "output_type": "stream",
     "text": [
      "hola me llamo alex nuñez mucho gusto\n"
     ]
    }
   ],
   "source": [
    "nombre = \"alex\"\n",
    "apellido =\"nuñez\"\n",
    "print(f\"hola me llamo {nombre} {apellido} mucho gusto\")"
   ]
  },
  {
   "cell_type": "code",
   "execution_count": 2,
   "id": "cb9d7df1",
   "metadata": {},
   "outputs": [
    {
     "name": "stdout",
     "output_type": "stream",
     "text": [
      "2\n"
     ]
    }
   ],
   "source": [
    "numero = input(\"ingre el numero\") \n",
    "numero_2 = input(\"ingre otro numero\")\n",
    "suma = int(numero) + int(numero_2)  \n",
    "print(suma) \n",
    "\n"
   ]
  },
  {
   "cell_type": "code",
   "execution_count": 5,
   "id": "4ff98d42",
   "metadata": {},
   "outputs": [
    {
     "name": "stdout",
     "output_type": "stream",
     "text": [
      "sacudir la cama\n",
      "extender la sabana\n",
      "acomodar la almohada\n",
      "listo\n"
     ]
    }
   ],
   "source": [
    "def arreglar_la_cama ():\n",
    "    print(\"sacudir la cama\")\n",
    "    print(\"extender la sabana\")\n",
    "    print(\"acomodar la almohada\")\n",
    "    print(\"listo\")\n",
    "\n",
    "arreglar_la_cama()\n"
   ]
  },
  {
   "cell_type": "code",
   "execution_count": 7,
   "id": "5c180856",
   "metadata": {},
   "outputs": [
    {
     "name": "stdout",
     "output_type": "stream",
     "text": [
      "sacudir la cama\n",
      "extender la sabana\n",
      "acomodar la almohada\n",
      "listo\n"
     ]
    }
   ],
   "source": [
    "arreglar_la_cama()\n"
   ]
  },
  {
   "cell_type": "code",
   "execution_count": null,
   "id": "929ba37a",
   "metadata": {},
   "outputs": [
    {
     "name": "stdout",
     "output_type": "stream",
     "text": [
      "sacudir la cama\n",
      "extender la sabana\n",
      "acomodar la almohada\n",
      "listo\n"
     ]
    }
   ],
   "source": [
    "arreglar_la_cama ()\n",
    "-_"
   ]
  },
  {
   "cell_type": "code",
   "execution_count": 11,
   "id": "76504ee0",
   "metadata": {},
   "outputs": [
    {
     "name": "stdout",
     "output_type": "stream",
     "text": [
      "45\n",
      "20\n"
     ]
    }
   ],
   "source": [
    "def caracteritica_de_tv (pulgadas):\n",
    "    print(pulgadas)\n",
    "caracteritica_de_tv (45)\n",
    "caracteritica_de_tv (20) \n",
    "   "
   ]
  },
  {
   "cell_type": "code",
   "execution_count": null,
   "id": "3b9bd5c9",
   "metadata": {},
   "outputs": [],
   "source": []
  }
 ],
 "metadata": {
  "kernelspec": {
   "display_name": "Python 3",
   "language": "python",
   "name": "python3"
  },
  "language_info": {
   "codemirror_mode": {
    "name": "ipython",
    "version": 3
   },
   "file_extension": ".py",
   "mimetype": "text/x-python",
   "name": "python",
   "nbconvert_exporter": "python",
   "pygments_lexer": "ipython3",
   "version": "3.13.3"
  }
 },
 "nbformat": 4,
 "nbformat_minor": 5
}
