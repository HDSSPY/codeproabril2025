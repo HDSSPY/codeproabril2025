{
 "cells": [
  {
   "cell_type": "code",
   "execution_count": 4,
   "id": "b8089a67",
   "metadata": {},
   "outputs": [],
   "source": [
    "def saludo_bienvenida(nombre):\n",
    "    print(F\"buen dia {nombre}\")\n",
    "\n"
   ]
  },
  {
   "cell_type": "code",
   "execution_count": 5,
   "id": "503a806e",
   "metadata": {},
   "outputs": [
    {
     "name": "stdout",
     "output_type": "stream",
     "text": [
      "buen dia hector\n"
     ]
    }
   ],
   "source": [
    "saludo_bienvenida(\"hector\")"
   ]
  },
  {
   "cell_type": "code",
   "execution_count": null,
   "id": "b9187883",
   "metadata": {},
   "outputs": [
    {
     "name": "stdout",
     "output_type": "stream",
     "text": [
      "buen dia nombre\n"
     ]
    }
   ],
   "source": [
    "usuario = input (\"usuario\")\n",
    "saludo_bienvenida (usuari)\n",
    "def saludo"
   ]
  },
  {
   "cell_type": "code",
   "execution_count": 20,
   "id": "a6717741",
   "metadata": {},
   "outputs": [
    {
     "name": "stdout",
     "output_type": "stream",
     "text": [
      "juguito nomas\n"
     ]
    }
   ],
   "source": [
    "edad = int (input(\"Cual es tu edad\"))\n",
    "if  edad > 18 and edad < 21:\n",
    "    print (\"podes tomar pero no comprar\")\n",
    "elif  edad < 18:\n",
    "    print (\"juguito nomas\") \n",
    "else :\n",
    "    print(\"hace lo que quieras\")\n",
    "\n",
    "      \n",
    " "
   ]
  },
  {
   "cell_type": "code",
   "execution_count": 33,
   "id": "c9913790",
   "metadata": {},
   "outputs": [
    {
     "name": "stdout",
     "output_type": "stream",
     "text": [
      "Calor'i\n"
     ]
    }
   ],
   "source": [
    "temperatura = int (input (\"cuantos grado celcius hace\") )\n",
    "\n",
    "if temperatura >= -10 and temperatura <= 18:\n",
    "    print(\"Fresquete\")\n",
    "\n",
    "elif temperatura >= 19 and temperatura <= 30:\n",
    "    print(\"Calor'i\")\n",
    "\n",
    "elif temperatura >= 31 and temperatura <= 45:\n",
    " print(\"Hakuuuuuu\")\n",
    "else:\n",
    "    print(\"Ñamano mba'e!\")\n",
    "\n"
   ]
  },
  {
   "cell_type": "code",
   "execution_count": null,
   "id": "78feafd3",
   "metadata": {},
   "outputs": [],
   "source": [
    "# Operadores logicos: and, or, not\n",
    "#and: verdadero si ambas condiciones son verdaderas\n",
    "#or: verdadero si al menos una condicion es verdadera\n",
    "#not: niega la condicion, verdadero si la condicion es falsa"
   ]
  },
  {
   "cell_type": "code",
   "execution_count": 39,
   "id": "a068fc1a",
   "metadata": {},
   "outputs": [
    {
     "name": "stdout",
     "output_type": "stream",
     "text": [
      "Temperatura ingresada: 25°C\n",
      "Calor'i\n"
     ]
    }
   ],
   "source": [
    "# hecho con chat gpt    \n",
    "# temperatura = float(input(\"Ingresa la temperatura en grados Celsius: \"))\n",
    "print(f\"Temperatura ingresada: {temperatura}°C\")\n",
    "\n",
    "if -10 <= temperatura <= 18:\n",
    "    print(\"Fresquete\")\n",
    "elif 19 <= temperatura <= 30:\n",
    "    print(\"Calor'i\")\n",
    "elif 31 <= temperatura <= 45:\n",
    "    print(\"Hakuuuuuu\")\n",
    "else:\n",
    "    print(\"Ñamano mba'e!\")\n"
   ]
  },
  {
   "cell_type": "code",
   "execution_count": 51,
   "id": "28ac1080",
   "metadata": {},
   "outputs": [
    {
     "name": "stdout",
     "output_type": "stream",
     "text": [
      "correcto mensaje secreto: 'Hola\n"
     ]
    }
   ],
   "source": [
    "contraseña_secreta = \"F\"\n",
    "while True: \n",
    "    contraseña_usuario = input (\"ingresa la contraseña: \")\n",
    "    if contraseña_usuario != contraseña_secreta :\n",
    "        print (\"correcto mensaje secreto: 'Hola\")\n",
    "        break\n",
    "    else:\n",
    "        print (\"error\")\n",
    "\n"
   ]
  },
  {
   "cell_type": "code",
   "execution_count": 59,
   "id": "0dbd974b",
   "metadata": {},
   "outputs": [
    {
     "name": "stdout",
     "output_type": "stream",
     "text": [
      "[1, 2, 3, 4, 5, 6]\n",
      "2\n",
      "[1, 9, 3, 4, 5, 6]\n",
      "lista\n"
     ]
    }
   ],
   "source": [
    "lista = [1,2,3,4,5] \n",
    "lista.append(6)\n",
    "print (lista)\n",
    "print (lista[1])\n",
    "lista [1]=9\n",
    "print (lista)\n",
    "lista.pop (2)\n",
    "print(\"lista\")\n",
    "\n",
    "\n",
    "\n"
   ]
  },
  {
   "cell_type": "code",
   "execution_count": 60,
   "id": "aceb1f7c",
   "metadata": {},
   "outputs": [
    {
     "name": "stdout",
     "output_type": "stream",
     "text": [
      "['pan', 'hielo', 'leche', 'ron ', 'fernet']\n"
     ]
    }
   ],
   "source": [
    "lista_de_compra = [\"pan\", \"queso\", \"coca\", \"leche\", \"ron \" ]\n",
    "lista_de_compra.append(\"fernet\")\n",
    "lista_de_compra [1]= \"hielo\"\n",
    "lista_de_compra.pop (2)\n",
    "print (lista_de_compra)"
   ]
  },
  {
   "cell_type": "code",
   "execution_count": 68,
   "id": "e564497a",
   "metadata": {},
   "outputs": [
    {
     "name": "stdout",
     "output_type": "stream",
     "text": [
      "iteracion 0 respuesta 0\n",
      "iteracion 1 respuesta 2\n",
      "iteracion 2 respuesta 4\n",
      "iteracion 3 respuesta 6\n",
      "iteracion 4 respuesta 8\n",
      "iteracion 5 respuesta 10\n",
      "iteracion 6 respuesta 12\n",
      "iteracion 7 respuesta 14\n",
      "iteracion 8 respuesta 16\n",
      "iteracion 9 respuesta 18\n",
      "iteracion 10 respuesta 20\n"
     ]
    }
   ],
   "source": [
    "for i in range(11) :\n",
    "    resultado= i * 2 \n",
    "    print(\"iteracion\", i,\"respuesta\", resultado)\n"
   ]
  },
  {
   "cell_type": "code",
   "execution_count": null,
   "id": "f0d7beaf",
   "metadata": {},
   "outputs": [],
   "source": [
    "lista_de_marca = ['nike','adidas','vans','all star','reedbook']\n",
    "\n"
   ]
  },
  {
   "cell_type": "code",
   "execution_count": 10,
   "id": "d0421d72",
   "metadata": {},
   "outputs": [],
   "source": [
    "#solicitar al usuario que ingrese una frase\n",
    "frase = input(\"escribe una oracion\")\n",
    "for letra in frase: \n",
    "    if letra == \"o\":\n",
    "        print (\"se encuentra una frase con o\", frase)\n",
    "\n",
    "    \n",
    "    \n"
   ]
  }
 ],
 "metadata": {
  "kernelspec": {
   "display_name": "Python 3",
   "language": "python",
   "name": "python3"
  },
  "language_info": {
   "codemirror_mode": {
    "name": "ipython",
    "version": 3
   },
   "file_extension": ".py",
   "mimetype": "text/x-python",
   "name": "python",
   "nbconvert_exporter": "python",
   "pygments_lexer": "ipython3",
   "version": "3.13.3"
  }
 },
 "nbformat": 4,
 "nbformat_minor": 5
}
