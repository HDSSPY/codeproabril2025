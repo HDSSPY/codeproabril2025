{
 "cells": [
  {
   "cell_type": "code",
   "execution_count": 1,
   "id": "ee482012",
   "metadata": {},
   "outputs": [
    {
     "name": "stdout",
     "output_type": "stream",
     "text": [
      "hola mundo\n"
     ]
    }
   ],
   "source": [
    "def imprimir_saludo():\n",
    "    print(\"hola mundo\")\n",
    "imprimir_saludo ()\n",
    "\n",
    " "
   ]
  },
  {
   "cell_type": "code",
   "execution_count": null,
   "id": "6cb0f052",
   "metadata": {},
   "outputs": [],
   "source": [
    "def verificar (letra1, letra2) :\n",
    "     if letra1 == letra2 :\n",
    "        print(\"Las letras son iguales\")\n",
    "    else\n",
    "        print(\"las letras son diferente\")\n",
    "\n",
    "\n"
   ]
  },
  {
   "cell_type": "code",
   "execution_count": 31,
   "id": "3bc1c103",
   "metadata": {},
   "outputs": [
    {
     "data": {
      "text/plain": [
       "True"
      ]
     },
     "execution_count": 31,
     "metadata": {},
     "output_type": "execute_result"
    }
   ],
   "source": [
    "#Crear una función que reciba dos parámetros (una palabra y un número),\n",
    "# y que retorne True si el número es igual a la cantidad de letras de la palabra. \n",
    "# En caso contrario, que retorne False.\n",
    "def verificar (palabra, numero):\n",
    "    if len(palabra) == numero:\n",
    "\n",
    "       return True \n",
    "    else: \n",
    "        return False\n",
    "verificar (\"chau\", 4)"
   ]
  },
  {
   "cell_type": "code",
   "execution_count": 39,
   "id": "57294a87",
   "metadata": {},
   "outputs": [
    {
     "name": "stdout",
     "output_type": "stream",
     "text": [
      "[['h', 'o', 'l', 'a']]\n",
      "[['h', 'o', 'l', 'a'], ['h', 'o', 'l', 'a']]\n",
      "[['h', 'o', 'l', 'a'], ['h', 'o', 'l', 'a'], ['h', 'o', 'l', 'a']]\n"
     ]
    }
   ],
   "source": [
    "#Pedir al usuario que ingrese 1 palabra, \n",
    "#luego convertir esa palabra a una lista con sus caracteres con list().\n",
    "#Agregar esa lista de caracteres a una lista llamada palabras_ingresadas.\n",
    "#Repetir el proceso 3 veces. Cada vez que se agregue una lista de caracteres,\n",
    "#imprimir la lista palabras_ingresadas.\n",
    "\n",
    "\n",
    "palabras_ingresadas = []\n",
    "for i in range(3):\n",
    "    palabra_user = input('Introduce una palabra crack:')\n",
    "    palabra_listeada = list(palabra_user)\n",
    "    palabras_ingresadas.append(palabra_listeada)\n",
    "    print(palabras_ingresadas)"
   ]
  },
  {
   "cell_type": "code",
   "execution_count": 40,
   "id": "f181b87a",
   "metadata": {},
   "outputs": [
    {
     "name": "stdout",
     "output_type": "stream",
     "text": [
      "[['c', 'h', 'a', 'u']]\n",
      "[['c', 'h', 'a', 'u'], ['h', 'o', 'l', 'a']]\n",
      "[['c', 'h', 'a', 'u'], ['h', 'o', 'l', 'a'], ['a', 'd', 'i', 'o']]\n"
     ]
    }
   ],
   "source": [
    "palabras_ingresadas = []\n",
    "\n",
    "for i in range(3):\n",
    "    palabra = input(\"Ingresa una palabra: \")\n",
    "    lista_caracteres = list(palabra)\n",
    "    palabras_ingresadas.append(lista_caracteres)\n",
    "    print(palabras_ingresadas)"
   ]
  },
  {
   "cell_type": "code",
   "execution_count": null,
   "id": "0fc98e4c",
   "metadata": {},
   "outputs": [],
   "source": [
    "#Dada la lista de ejemplo: \n",
    "#lista = [['h', 'o', 'l', 'i', 's'], ['h', 'e', 'l', 'l', 'o'], ['h', 'a', 'l', 'l', 'o']]\n",
    "#Crear una función que imprima una grilla (lista de listas), una línea por cada lista dentro de la lista principal.\n",
    "#Ejemplo del resultado esperado:\n",
    "\n",
    "lista = [['h', 'o', 'l', 'i', 's'], ['h', 'e', 'l', 'l', 'o'], ['h', 'a', 'l', 'l', 'o']]\n",
    "def imprimir_grilla ():\n",
    "    for i in grilla: \n",
    "        print  i \n",
    "\n",
    "        "
   ]
  },
  {
   "cell_type": "code",
   "execution_count": 41,
   "id": "b4235b12",
   "metadata": {},
   "outputs": [
    {
     "name": "stdout",
     "output_type": "stream",
     "text": [
      "['h', 'o', 'l', 'i', 's']\n",
      "['h', 'e', 'l', 'l', 'o']\n",
      "['h', 'a', 'l', 'l', 'o']\n"
     ]
    }
   ],
   "source": [
    "lista = [['h', 'o', 'l', 'i', 's'], ['h', 'e', 'l', 'l', 'o'], ['h', 'a', 'l', 'l', 'o']]\n",
    "def imprimir_lista (lista):\n",
    "    print(lista[0])\n",
    "    print(lista[1])\n",
    "    print(lista[2])\n",
    "imprimir_lista(lista)\n"
   ]
  },
  {
   "cell_type": "code",
   "execution_count": 42,
   "id": "10572f65",
   "metadata": {},
   "outputs": [
    {
     "name": "stdout",
     "output_type": "stream",
     "text": [
      "['h', 'o', 'l', 'i', 's']\n",
      "['h', 'e', 'l', 'l', 'o']\n",
      "['h', 'a', 'l', 'l', 'o']\n"
     ]
    }
   ],
   "source": [
    "# #lista dd ejemplo\n",
    "lista_ejemplo = [['h', 'o', 'l', 'i', 's'], ['h', 'e', 'l', 'l', 'o'], ['h', 'a', 'l', 'l', 'o']]\n",
    "\n",
    "# #crear funcion que imprima la lista de listas una linea por cada lista.\n",
    "def imprimir_con_salto(lista_a_imprimir):\n",
    "    for i in lista_a_imprimir:\n",
    "        lista = list(i)\n",
    "        print(lista)\n",
    "\n",
    "imprimir_con_salto(lista_ejemplo)"
   ]
  },
  {
   "cell_type": "code",
   "execution_count": null,
   "id": "ac889c05",
   "metadata": {},
   "outputs": [],
   "source": [
    "#definir la palabra a encontrar: nueve\n",
    "#definir la cantidad de letra: 5 \n",
    "#definir intento: 3\n",
    "#crear grilla vacia( lita para motrar el progreo del jugador)\n",
    "#motar menaje de bienvenida: ue cominece el juego \n",
    "\n",
    "palabra_secreta = (nueve ):\n",
    "cantidad_de_letras = 5\n",
    "grilla = [\"_\"] * cantidad_letrasw\n"
   ]
  },
  {
   "cell_type": "code",
   "execution_count": 47,
   "id": "b7b5ae00",
   "metadata": {},
   "outputs": [
    {
     "name": "stdout",
     "output_type": "stream",
     "text": [
      "🎮 ¡Bienvenido a Wordle versión simple!\n",
      "Tenés que adivinar la palabra secreta de 5 letras.\n"
     ]
    },
    {
     "name": "stdout",
     "output_type": "stream",
     "text": [
      "⚠️ La palabra debe tener 5 letras.\n",
      "⚠️ La palabra debe tener 5 letras.\n",
      "Resultado: N U E V E\n",
      "🎉 ¡Correcto! Adivinaste la palabra.\n"
     ]
    }
   ],
   "source": [
    "# Palabra a encontrar\n",
    "palabra_secreta = \"nueve\"\n",
    "intentos = 3\n",
    "\n",
    "print(\"🎮 ¡Bienvenido a Wordle versión simple!\")\n",
    "print(\"Tenés que adivinar la palabra secreta de 5 letras.\")\n",
    "\n",
    "for intento in range(intentos):\n",
    "    palabra = input(f\"\\nIntento {intento + 1}: \").lower()\n",
    "\n",
    "    if len(palabra) != 5:\n",
    "        print(\"⚠️ La palabra debe tener 5 letras.\")\n",
    "        continue\n",
    "\n",
    "    resultado = []\n",
    "\n",
    "    for i in range(5):\n",
    "        if palabra[i] == palabra_secreta[i]:\n",
    "            resultado.append(palabra[i].upper())  # Letra correcta y en posición correcta\n",
    "        elif palabra[i] in palabra_secreta:\n",
    "            resultado.append(palabra[i])  # Letra está, pero en otra posición\n",
    "        else:\n",
    "            resultado.append(\"_\")  # Letra no está\n",
    "\n",
    "    print(\"Resultado:\", \" \".join(resultado))\n",
    "\n",
    "    if palabra == palabra_secreta:\n",
    "        print(\"🎉 ¡Correcto! Adivinaste la palabra.\")\n",
    "        break\n",
    "else:\n",
    "    print(\"\\n❌ Te quedaste sin intentos. La palabra era:\", palabra_secreta)\n"
   ]
  }
 ],
 "metadata": {
  "kernelspec": {
   "display_name": "Python 3",
   "language": "python",
   "name": "python3"
  },
  "language_info": {
   "codemirror_mode": {
    "name": "ipython",
    "version": 3
   },
   "file_extension": ".py",
   "mimetype": "text/x-python",
   "name": "python",
   "nbconvert_exporter": "python",
   "pygments_lexer": "ipython3",
   "version": "3.13.3"
  }
 },
 "nbformat": 4,
 "nbformat_minor": 5
}
